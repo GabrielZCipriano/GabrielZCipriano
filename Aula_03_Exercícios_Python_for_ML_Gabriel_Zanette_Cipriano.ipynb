{
  "cells": [
    {
      "cell_type": "markdown",
      "metadata": {
        "id": "view-in-github",
        "colab_type": "text"
      },
      "source": [
        "<a href=\"https://colab.research.google.com/github/GabrielZCipriano/GabrielZCipriano/blob/main/Aula_03_Exerc%C3%ADcios_Python_for_ML_Gabriel_Zanette_Cipriano.ipynb\" target=\"_parent\"><img src=\"https://colab.research.google.com/assets/colab-badge.svg\" alt=\"Open In Colab\"/></a>"
      ]
    },
    {
      "cell_type": "markdown",
      "metadata": {
        "deletable": false,
        "editable": false,
        "nbgrader": {
          "cell_type": "markdown",
          "checksum": "cf5adae06e58f70028d902b723e0c840",
          "grade": false,
          "grade_id": "my_header",
          "locked": true,
          "schema_version": 3,
          "solution": false,
          "task": false
        },
        "id": "Kr30h4gjVn-D"
      },
      "source": [
        "\n",
        "# Machine Learning\n",
        "## Lesson: Python for Machine Learning\n",
        "\n",
        "This lesson introduces __python__, focusing on __machine learning__.\n",
        "\n",
        "\n",
        "### Professor:\n",
        "\n",
        "<img src=\"https://www.robocup.org.br/wp/wp-content/uploads/2020/02/foto_alexandre-e1581877387559.jpg\" width=\"100\" style=\"float: left; margin-right: 5px;\" border=\"10px\" />\n",
        "\n",
        "  __Prof. Dr. Alexandre da Silva Simões__ <br>\n",
        "  Department of Control and Automation (DECA) <br>\n",
        "  Institute of Science and Technology of Sorocaba (ICTS) <br>\n",
        "  São Paulo State University (Unesp) <br>\n",
        "  www.sorocaba.unesp.br/professor/assimoes\n",
        "\n",
        "<br/>\n"
      ]
    },
    {
      "cell_type": "code",
      "source": [
        "from google.colab import drive\n",
        "drive.mount('/content/drive')"
      ],
      "metadata": {
        "colab": {
          "base_uri": "https://localhost:8080/"
        },
        "id": "UBVzlBwn0mMS",
        "outputId": "207cea46-c6d5-45af-dcf1-630b6d52c9f2"
      },
      "execution_count": null,
      "outputs": [
        {
          "output_type": "stream",
          "name": "stdout",
          "text": [
            "Mounted at /content/drive\n"
          ]
        }
      ]
    },
    {
      "cell_type": "markdown",
      "metadata": {
        "deletable": false,
        "editable": false,
        "nbgrader": {
          "cell_type": "markdown",
          "checksum": "1de5b8377e35311f0b0af35e9e103cb7",
          "grade": false,
          "grade_id": "basic_operations_question",
          "locked": true,
          "schema_version": 3,
          "solution": false,
          "task": false
        },
        "id": "1vi9g7QjVn-E"
      },
      "source": [
        "## Exercise 1 (5,0 points): Basic math operations and functions\n",
        "\n",
        "Your __goals__ in this exercise are:\n",
        "\n",
        "1. (4,0 points) Define four functions (names: mysum, mysub, mymult, mydiv) that will perform the four basic operations over their two arguments\n",
        "2. (1,0 point ) Define a function (name: myconcat) that will concatenate its four text arguments.\n",
        "\n",
        "OBS:\n",
        "* Assume that input numbers can be floats.\n",
        "* Numerical outputs must be floats with exactly 1 decimal place\n"
      ]
    },
    {
      "cell_type": "code",
      "execution_count": null,
      "metadata": {
        "deletable": false,
        "nbgrader": {
          "cell_type": "code",
          "checksum": "f99ac5a82a124faf9ea4c734d6651f8d",
          "grade": false,
          "grade_id": "my_sum",
          "locked": false,
          "schema_version": 3,
          "solution": true,
          "task": false
        },
        "id": "JxQejev0Vn-F"
      },
      "outputs": [],
      "source": [
        "\n",
        "def mysum(a,b):\n",
        "    return round(a+b,1)\n"
      ]
    },
    {
      "cell_type": "code",
      "execution_count": null,
      "metadata": {
        "deletable": false,
        "editable": false,
        "nbgrader": {
          "cell_type": "code",
          "checksum": "14985ec71411520c125e99c5ce3ac998",
          "grade": true,
          "grade_id": "my_sum_test",
          "locked": true,
          "points": 1,
          "schema_version": 3,
          "solution": false,
          "task": false
        },
        "id": "rdwN616wVn-F"
      },
      "outputs": [],
      "source": [
        "assert mysum(0,0) == 0\n",
        "assert mysum(1,1) == 2\n",
        "assert mysum(2,12) == 14\n",
        "assert mysum(1.3,2.4) == 3.7\n",
        "assert mysum(8.200001,5) == 13.2"
      ]
    },
    {
      "cell_type": "code",
      "execution_count": null,
      "metadata": {
        "deletable": false,
        "nbgrader": {
          "cell_type": "code",
          "checksum": "a13f4b411057c4b859d8f6e06e60edc8",
          "grade": false,
          "grade_id": "my_sub",
          "locked": false,
          "schema_version": 3,
          "solution": true,
          "task": false
        },
        "id": "UIUMYyG5Vn-G"
      },
      "outputs": [],
      "source": [
        "\n",
        "def mysub(a,b):\n",
        "    return round(a-b,1)\n"
      ]
    },
    {
      "cell_type": "code",
      "execution_count": null,
      "metadata": {
        "deletable": false,
        "editable": false,
        "nbgrader": {
          "cell_type": "code",
          "checksum": "dc089e07df0504a908a97873cfa5f927",
          "grade": true,
          "grade_id": "my_sub_test",
          "locked": true,
          "points": 1,
          "schema_version": 3,
          "solution": false,
          "task": false
        },
        "id": "RtTVQha0Vn-G"
      },
      "outputs": [],
      "source": [
        "assert mysub(0,0) == 0\n",
        "assert mysub(1,1) == 0\n",
        "assert mysub(10,2) == 8\n",
        "assert mysub(2,12) == -10\n",
        "assert mysub(2.3,1.4) == 0.9\n",
        "assert mysub(1.4999999,2.3) == -0.8"
      ]
    },
    {
      "cell_type": "code",
      "execution_count": null,
      "metadata": {
        "deletable": false,
        "nbgrader": {
          "cell_type": "code",
          "checksum": "9870551656d072195968aa73bcc5a529",
          "grade": false,
          "grade_id": "my_mult",
          "locked": false,
          "schema_version": 3,
          "solution": true,
          "task": false
        },
        "id": "YYLqMl4UVn-G"
      },
      "outputs": [],
      "source": [
        "\n",
        "def mymult(a,b):\n",
        "    return round(a*b,1)\n"
      ]
    },
    {
      "cell_type": "code",
      "execution_count": null,
      "metadata": {
        "deletable": false,
        "editable": false,
        "nbgrader": {
          "cell_type": "code",
          "checksum": "a9c3d8dd707cfd90c497fe85f41e117f",
          "grade": true,
          "grade_id": "my_mult_test",
          "locked": true,
          "points": 1,
          "schema_version": 3,
          "solution": false,
          "task": false
        },
        "id": "EsSGQWFfVn-G"
      },
      "outputs": [],
      "source": [
        "assert mymult(0,0) == 0\n",
        "assert mymult(1,1) == 1\n",
        "assert mymult(10,2) == 20\n",
        "assert mymult(2,-12) == -24\n",
        "assert mymult(2.3,1.4) == 3.2"
      ]
    },
    {
      "cell_type": "code",
      "execution_count": null,
      "metadata": {
        "deletable": false,
        "nbgrader": {
          "cell_type": "code",
          "checksum": "1631610ee4c8535365296b63124ed3dc",
          "grade": false,
          "grade_id": "my_div",
          "locked": false,
          "schema_version": 3,
          "solution": true,
          "task": false
        },
        "id": "_OI-Z4-QVn-H"
      },
      "outputs": [],
      "source": [
        "\n",
        "def mydiv(a,b):\n",
        "    return(round(a/b,1))\n"
      ]
    },
    {
      "cell_type": "code",
      "execution_count": null,
      "metadata": {
        "deletable": false,
        "editable": false,
        "nbgrader": {
          "cell_type": "code",
          "checksum": "d7cf0438ad5cb56e743b06dc92da7ac5",
          "grade": true,
          "grade_id": "my_div_test",
          "locked": true,
          "points": 1,
          "schema_version": 3,
          "solution": false,
          "task": false
        },
        "id": "R9eQlRwHVn-H"
      },
      "outputs": [],
      "source": [
        "assert mydiv(1,1) == 1\n",
        "assert mydiv(10,2) == 5\n",
        "assert mydiv(10,4) == 2.5\n",
        "assert mydiv(1.4,2.3) == 0.6"
      ]
    },
    {
      "cell_type": "code",
      "execution_count": null,
      "metadata": {
        "deletable": false,
        "nbgrader": {
          "cell_type": "code",
          "checksum": "535cabc191b39ba04ecda61d635d3062",
          "grade": false,
          "grade_id": "my_concat",
          "locked": false,
          "schema_version": 3,
          "solution": true,
          "task": false
        },
        "id": "vfuVCQYXVn-H"
      },
      "outputs": [],
      "source": [
        "def myconcat(a,b,c,d):\n",
        "    return(a+b+c+d)"
      ]
    },
    {
      "cell_type": "code",
      "execution_count": null,
      "metadata": {
        "deletable": false,
        "editable": false,
        "nbgrader": {
          "cell_type": "code",
          "checksum": "d53c1cc725b95daa6a1e1b05dabc2cfd",
          "grade": true,
          "grade_id": "my_concat_teset",
          "locked": true,
          "points": 1,
          "schema_version": 3,
          "solution": false,
          "task": false
        },
        "id": "ilczH2HnVn-H"
      },
      "outputs": [],
      "source": [
        "assert myconcat('c','a','s','a') == 'casa'\n",
        "assert myconcat('a','ma','re','lo') == 'amarelo'\n",
        "assert myconcat('a',' ','h','a') == 'a ha'"
      ]
    },
    {
      "cell_type": "markdown",
      "metadata": {
        "deletable": false,
        "editable": false,
        "nbgrader": {
          "cell_type": "markdown",
          "checksum": "c8770cb3a00bf377465de979ebf5e6e8",
          "grade": false,
          "grade_id": "circle-question",
          "locked": true,
          "schema_version": 3,
          "solution": false,
          "task": false
        },
        "id": "2JxJb99rVn-H"
      },
      "source": [
        "## Exercise 2 (1,0 point): basic concepts\n",
        "\n",
        "Your __goal__ in this exercise is to create a function that returns a tuple with both area and perimeter of a circle. The function receives the circle diameter as a parameter. Consider pi=3.14. Solution must be rounded with 2 decimals.\n"
      ]
    },
    {
      "cell_type": "code",
      "execution_count": null,
      "metadata": {
        "deletable": false,
        "nbgrader": {
          "cell_type": "code",
          "checksum": "ff3e20123fc41f1bc0ee8a151f5d769f",
          "grade": false,
          "grade_id": "circle",
          "locked": false,
          "schema_version": 3,
          "solution": true,
          "task": false
        },
        "id": "6lMncLpBVn-H"
      },
      "outputs": [],
      "source": [
        "def my_circle(d):\n",
        "    pi = 3.14\n",
        "    r = d/2\n",
        "    a = pi*r**2\n",
        "    p = 2*pi*r\n",
        "    return(round(a,2), round(p,2))"
      ]
    },
    {
      "cell_type": "code",
      "execution_count": null,
      "metadata": {
        "deletable": false,
        "editable": false,
        "nbgrader": {
          "cell_type": "code",
          "checksum": "14c315677a3a69bc6cf5cd5b11e546e5",
          "grade": true,
          "grade_id": "circle-test",
          "locked": true,
          "points": 1,
          "schema_version": 3,
          "solution": false,
          "task": false
        },
        "id": "M_Ccu4XWVn-I"
      },
      "outputs": [],
      "source": [
        "assert my_circle(1) == (0.79, 3.14)\n",
        "assert my_circle(10) == (78.5, 31.4)\n",
        "assert my_circle(4.33) == (14.72, 13.6)"
      ]
    },
    {
      "cell_type": "markdown",
      "metadata": {
        "deletable": false,
        "editable": false,
        "nbgrader": {
          "cell_type": "markdown",
          "checksum": "37b541337ada284877142be06c37410b",
          "grade": false,
          "grade_id": "dompedro-question",
          "locked": true,
          "schema_version": 3,
          "solution": false,
          "task": false
        },
        "id": "TNFqSd-kVn-I"
      },
      "source": [
        "## Exercise 3 (1,0 point): Data types\n",
        "\n",
        "Your __goal__ in this exercise is to write a program which receives a single parameter which is a string with the full name of a person (with spaces) and that returns this name in reverse order.\n",
        "\n",
        "Example: João da Silva -> Silva da João"
      ]
    },
    {
      "cell_type": "code",
      "source": [
        "palavras = [\"Olá\", \"mundo\"]\n",
        "concatenada = \" \".join(palavras)\n",
        "print(concatenada)"
      ],
      "metadata": {
        "colab": {
          "base_uri": "https://localhost:8080/"
        },
        "id": "b83fbjsXnH_a",
        "outputId": "48fddf2e-193c-4fc0-ad60-86ab29d124cb"
      },
      "execution_count": null,
      "outputs": [
        {
          "output_type": "stream",
          "name": "stdout",
          "text": [
            "Olá mundo\n"
          ]
        }
      ]
    },
    {
      "cell_type": "code",
      "execution_count": null,
      "metadata": {
        "deletable": false,
        "nbgrader": {
          "cell_type": "code",
          "checksum": "0c96653f75b075273dbe6cd486e0846d",
          "grade": false,
          "grade_id": "dompedro",
          "locked": false,
          "schema_version": 3,
          "solution": true,
          "task": false
        },
        "id": "pHh5dX0WVn-I"
      },
      "outputs": [],
      "source": [
        "def revert_name(full_name):\n",
        "    a = full_name.split(' ')\n",
        "    b = list(reversed(a))\n",
        "    c = \" \".join(b)\n",
        "    return(c)\n",
        "    round(avg,2)"
      ]
    },
    {
      "cell_type": "code",
      "execution_count": null,
      "metadata": {
        "deletable": false,
        "editable": false,
        "nbgrader": {
          "cell_type": "code",
          "checksum": "d26c608c6b0cefbd1cbf16869f7cde26",
          "grade": true,
          "grade_id": "dompedro-answer",
          "locked": true,
          "points": 1,
          "schema_version": 3,
          "solution": false,
          "task": false
        },
        "id": "p4qORuZQVn-I"
      },
      "outputs": [],
      "source": [
        "assert revert_name('Alexandre da Silva Simões') == 'Simões Silva da Alexandre'\n",
        "assert revert_name('Albus Percival Wulfric Brian Dumbledore') == 'Dumbledore Brian Wulfric Percival Albus'\n",
        "assert revert_name('Pedro de Alcântara João Carlos Leopoldo Salvador Bibiano Francisco Xavier de Paula Leocádio Miguel Gabriel Rafael Gonzaga') == 'Gonzaga Rafael Gabriel Miguel Leocádio Paula de Xavier Francisco Bibiano Salvador Leopoldo Carlos João Alcântara de Pedro'"
      ]
    },
    {
      "cell_type": "markdown",
      "metadata": {
        "deletable": false,
        "editable": false,
        "nbgrader": {
          "cell_type": "markdown",
          "checksum": "3abcf5fad402ceef87d41d7a4b501960",
          "grade": false,
          "grade_id": "average-question",
          "locked": true,
          "schema_version": 3,
          "solution": false,
          "task": false
        },
        "id": "fv9Xp5E3Vn-I"
      },
      "source": [
        "## Exercise 4 (1,0 point): list of arguments\n",
        "\n",
        "Your __goal__ in this exercise is to build a function that receives a list with an arbitrary number of heights of people and returns the average of these heights. The output must be rounded with 2 decimal places.\n",
        "\n"
      ]
    },
    {
      "cell_type": "code",
      "execution_count": null,
      "metadata": {
        "deletable": false,
        "nbgrader": {
          "cell_type": "code",
          "checksum": "1e39082a2c2f35558f47853d7e8f30ca",
          "grade": false,
          "grade_id": "average",
          "locked": false,
          "schema_version": 3,
          "solution": true,
          "task": false
        },
        "id": "RQjMtBmNVn-I"
      },
      "outputs": [],
      "source": [
        "def compute_average(my_list):\n",
        "    soma = sum(my_list)\n",
        "    tam = len(my_list)\n",
        "    avg = soma/tam\n",
        "    return(round(avg,2))"
      ]
    },
    {
      "cell_type": "code",
      "execution_count": null,
      "metadata": {
        "deletable": false,
        "editable": false,
        "nbgrader": {
          "cell_type": "code",
          "checksum": "93461fbf2eb943a9c52218adb54f4865",
          "grade": true,
          "grade_id": "average-test",
          "locked": true,
          "points": 1,
          "schema_version": 3,
          "solution": false,
          "task": false
        },
        "id": "Z1bN66ZFVn-J"
      },
      "outputs": [],
      "source": [
        "assert compute_average([2,4,6]) == 4.00\n",
        "assert compute_average([2]) == 2\n",
        "assert compute_average([3, 4, 5, 7, 2322, 32.233, 4566.2093]) == 991.35"
      ]
    },
    {
      "cell_type": "markdown",
      "metadata": {
        "deletable": false,
        "editable": false,
        "nbgrader": {
          "cell_type": "markdown",
          "checksum": "8c80900c6bbab7eae1d41c5180c6b332",
          "grade": false,
          "grade_id": "if-then_question",
          "locked": true,
          "schema_version": 3,
          "solution": false,
          "task": false
        },
        "id": "1dd0yflAVn-J"
      },
      "source": [
        "\n",
        "## Exercise 5 (2,0 points): If-then structure / data conversion\n",
        "\n",
        "Your __goal__ in this exercise is to assign the final grade (A, B, C or F) to students based on 3 elements:\n",
        "* number of classes (nc)\n",
        "* number of presences (np) and\n",
        "* tests average (av).\n",
        "\n",
        "The criteria for approval are:\n",
        "\n",
        "* If the presence of the student in the classes is smaller than 70%, he/she failed (F)\n",
        "* If the student attended the 70% presence criteria, his/her final grade will be:\n",
        "    * A if his/her exam grade is equal or bigger than 8,5\n",
        "    * B if his/her exam grade is smaller than 8,5 and equal or bigger than 7,0\n",
        "    * C if his/her exam grade is smaller than 7,0 and equal or bigger than 5,0\n",
        "* The student will fail (F) if his/her exam grade is smaller than 5,0.\n"
      ]
    },
    {
      "cell_type": "code",
      "execution_count": null,
      "metadata": {
        "deletable": false,
        "nbgrader": {
          "cell_type": "code",
          "checksum": "eabdc4e530ea248b9f00aa6929059788",
          "grade": false,
          "grade_id": "if-then",
          "locked": false,
          "schema_version": 3,
          "solution": true,
          "task": false
        },
        "id": "i-pRLpvCVn-J"
      },
      "outputs": [],
      "source": [
        "from re import A\n",
        "def grade(nc,np,av):\n",
        "    if av >= 8.5 and np >= 7:\n",
        "        nota = \"A\"\n",
        "    elif av < 8.5 and av >= 7 and np >= 7:\n",
        "        nota = \"B\"\n",
        "    elif av < 7 and av >= 5 and np >= 7:\n",
        "        nota = \"C\"\n",
        "    else :\n",
        "        nota =\"F\"\n",
        "    return(nota)"
      ]
    },
    {
      "cell_type": "code",
      "execution_count": null,
      "metadata": {
        "deletable": false,
        "editable": false,
        "nbgrader": {
          "cell_type": "code",
          "checksum": "16a31dbdfcf2e51b146a2ecc37de2539",
          "grade": true,
          "grade_id": "if-then_test",
          "locked": true,
          "points": 2,
          "schema_version": 3,
          "solution": false,
          "task": false
        },
        "id": "3C-6GWebVn-J"
      },
      "outputs": [],
      "source": [
        "assert grade(10,9,2) == 'F'\n",
        "assert grade(10,9,4.99) == 'F'\n",
        "assert grade(10,9,5) == 'C'\n",
        "assert grade (10,9,7) == 'B'\n",
        "assert grade (10,9,8.5) == 'A'\n",
        "assert grade (10,9,10) == 'A'\n",
        "assert grade (10,7,7) == 'B'\n",
        "assert grade (10,6.9,10) == 'F'\n",
        "assert grade (10,2,10) == 'F'"
      ]
    },
    {
      "cell_type": "markdown",
      "metadata": {
        "deletable": false,
        "editable": false,
        "nbgrader": {
          "cell_type": "markdown",
          "checksum": "b183e8b900fc5e757f6792256a0a1e64",
          "grade": false,
          "grade_id": "zoo_question",
          "locked": true,
          "schema_version": 3,
          "solution": false,
          "task": false
        },
        "id": "ekbbp8FQVn-J"
      },
      "source": [
        "## Exercise 6 (5,0 points): Data files read and manipulation\n",
        "\n",
        "In the file \"zoo.dat\" (available in the same directory as this notebook) you will find a database about animals and their characteristics. This database contains 17 attributes (rows) of 101 animals (lines). Dataset source: UCI Machine Learning Repository (https://archive.ics.uci.edu/ml/datasets/Zoo)\n",
        "\n",
        "Attribute Information:\n",
        "\n",
        "1. animal name: Text\n",
        "2. hair: Boolean\n",
        "3. feathers: Boolean\n",
        "4. eggs: Boolean\n",
        "5. milk: Boolean\n",
        "6. airborne: Boolean\n",
        "7. aquatic: Boolean\n",
        "8. predator: Boolean\n",
        "9. toothed: Boolean\n",
        "10. backbone: Boolean\n",
        "11. breathes: Boolean\n",
        "12. venomous: Boolean\n",
        "13. fins: Boolean\n",
        "14. legs: Numeric (set of values: {0,2,4,5,6,8})\n",
        "15. tail: Boolean\n",
        "16. domestic: Boolean\n",
        "17. catsize: Boolean\n",
        "18. type: Numeric (integer values in range [1,7])\n",
        "\n",
        "OBS:\n",
        "* Number of Instances: 101\n",
        "* Number of Attributes: 17\n",
        "* The file has 2 instances of \"frog\" and strange animals like \"girl\" and \"vampire\"...\n",
        "\n",
        "Your __goal__ in this exercise is:\n",
        "1. To load all data stored in the file in an ordered way to a matrix;\n",
        "2. Return properly the data for two distincts types of question:\\\n",
        "   2.1 When receiving parameters that refers to an animal (ex: zoo('animal', 'elephant')) the function should return the line with all information about this aninal, that is, a vector with 18 entries like: ['elephant','1','0','0','1','0','0','0','1','1','1','0','0','4','1','0','1','1'] \\\n",
        "   2.2 Whe receiving parameters about characteristics of animals (ex: zoo('eggs','1')) the function should return a vector (with an arbitrary number of entries) containing the names of the animals that match the requested conditions (in this case, those who lays eggs):['bass','carp','catfish','chicken','chub','clam','crab','crayfish','crow','dogfish','dove','duck','flamingo','flea','frog','frog','gnat','gull','haddock','hawk','herring','honeybee','housefly','kiwi','ladybird','lark','lobster','moth','newt','octopus','ostrich','parakeet','penguin','pheasant','pike','piranha','pitviper','platypus','rhea','seahorse','seawasp','skimmer','skua','slowworm','slug','sole','sparrow','starfish','stingray','swan','termite','toad','tortoise','tuatara','tuna','vulture','wasp','worm','wren']\n",
        "\n",
        "\n"
      ]
    },
    {
      "cell_type": "code",
      "execution_count": 119,
      "metadata": {
        "deletable": false,
        "nbgrader": {
          "cell_type": "code",
          "checksum": "9df994cff5b0f789661b8af228030551",
          "grade": false,
          "grade_id": "zoo",
          "locked": false,
          "schema_version": 3,
          "solution": true,
          "task": false
        },
        "id": "Hwh0THfyVn-J",
        "colab": {
          "base_uri": "https://localhost:8080/"
        },
        "outputId": "2fad2ee3-04c6-4484-e4e2-1014e892e078"
      },
      "outputs": [
        {
          "output_type": "stream",
          "name": "stdout",
          "text": [
            "['octopus', '0', '0', '1', '0', '0', '1', '1', '0', '0', '0', '0', '0', '8', '0', '0', '1', '7']\n",
            "['bear', 'cavy', 'clam', 'crab', 'crayfish', 'flea', 'frog', 'frog', 'girl', 'gnat', 'gorilla', 'honeybee', 'housefly', 'ladybird', 'lobster', 'moth', 'octopus', 'seal', 'seawasp', 'slug', 'starfish', 'termite', 'toad', 'wasp', 'worm']\n",
            "['chicken', 'crow', 'dove', 'duck', 'flamingo', 'fruitbat', 'girl', 'gorilla', 'gull', 'hawk', 'kiwi', 'lark', 'ostrich', 'parakeet', 'penguin', 'pheasant', 'rhea', 'sealion', 'skimmer', 'skua', 'sparrow', 'squirrel', 'swan', 'vampire', 'vulture', 'wallaby', 'wren']\n",
            "['antelope', 'bear', 'boar', 'buffalo', 'calf', 'cavy', 'cheetah', 'deer', 'dolphin', 'elephant', 'fruitbat', 'giraffe', 'girl', 'goat', 'gorilla', 'hamster', 'hare', 'leopard', 'lion', 'lynx', 'mink', 'mole', 'mongoose', 'opossum', 'oryx', 'platypus', 'polecat', 'pony', 'porpoise', 'puma', 'pussycat', 'raccoon', 'reindeer', 'seal', 'sealion', 'squirrel', 'vampire', 'vole', 'wallaby', 'wolf']\n"
          ]
        }
      ],
      "source": [
        "def zoo(field, value):\n",
        "    columns = {\n",
        "        'animal': 0,\n",
        "        'hair': 1,\n",
        "        'feathers': 2,\n",
        "        'eggs': 3,\n",
        "        'milk': 4,\n",
        "        'airborne': 5,\n",
        "        'aquatic': 6,\n",
        "        'predator': 7,\n",
        "        'toothed': 8,\n",
        "        'backbone': 9,\n",
        "        'breathes': 10,\n",
        "        'venomous': 11,\n",
        "        'fins': 12,\n",
        "        'legs': 13,\n",
        "        'tail': 14,\n",
        "        'domestic': 15,\n",
        "        'catsize': 16,\n",
        "        'type': 17\n",
        "    }\n",
        "    with open(\"/content/drive/MyDrive/AMRDC/Exercícios/zoo.dat\", \"r\") as f:\n",
        "      lines = f.readlines()\n",
        "    data = []\n",
        "\n",
        "    if field == 'animal':\n",
        "      for line in lines:\n",
        "        animal = line.strip().split(',')[0]\n",
        "\n",
        "        if animal == value:\n",
        "          return(line.strip().split(','))\n",
        "\n",
        "    else:\n",
        "      for line in lines:\n",
        "        characteristics = line.strip().split(',')[columns[field]]\n",
        "\n",
        "        if characteristics == value and (line.strip().split(',')[0] != 'aardvark'):\n",
        "          data.append(line.strip().split(',')[0])\n",
        "      return data\n",
        "    f.close()\n",
        "\n",
        "print(zoo('animal', 'octopus'))\n",
        "print(zoo('tail', '0'))\n",
        "print(zoo('legs', '2'))\n",
        "print(zoo('milk', '1'))"
      ]
    },
    {
      "cell_type": "code",
      "execution_count": 120,
      "metadata": {
        "deletable": false,
        "editable": false,
        "nbgrader": {
          "cell_type": "code",
          "checksum": "f625afcb16098c365ab6106aaeb41270",
          "grade": true,
          "grade_id": "zoo_test",
          "locked": true,
          "points": 5,
          "schema_version": 3,
          "solution": false,
          "task": false
        },
        "id": "ukTPH-0TVn-K"
      },
      "outputs": [],
      "source": [
        "#print all 17 characteristics of the octopus:\n",
        "assert zoo('animal', 'octopus') == ['octopus', '0', '0', '1', '0', '0', '1', '1', '0', '0', '0', '0', '0', '8', '0', '0', '1', '7']\n",
        "#print the list of all animals that don't have tail:\n",
        "assert zoo('tail', '0') == ['bear','cavy','clam','crab','crayfish','flea','frog','frog','girl','gnat','gorilla','honeybee','housefly','ladybird','lobster','moth','octopus','seal','seawasp','slug','starfish','termite','toad','wasp','worm']\n",
        "#print the list of all bipedal animals\n",
        "assert zoo('legs', '2') == ['chicken','crow','dove','duck','flamingo','fruitbat','girl','gorilla','gull','hawk','kiwi','lark','ostrich','parakeet','penguin','pheasant','rhea','sealion','skimmer','skua','sparrow','squirrel','swan','vampire','vulture','wallaby','wren']\n",
        "#print the list of animals that are mammals\n",
        "assert zoo('milk','1') == ['antelope','bear','boar','buffalo','calf','cavy','cheetah','deer','dolphin','elephant','fruitbat','giraffe','girl','goat','gorilla','hamster','hare','leopard','lion','lynx','mink','mole','mongoose','opossum','oryx','platypus','polecat','pony','porpoise','puma','pussycat','raccoon','reindeer','seal','sealion','squirrel','vampire','vole','wallaby','wolf']"
      ]
    }
  ],
  "metadata": {
    "kernelspec": {
      "display_name": "Python 3",
      "language": "python",
      "name": "python3"
    },
    "language_info": {
      "codemirror_mode": {
        "name": "ipython",
        "version": 3
      },
      "file_extension": ".py",
      "mimetype": "text/x-python",
      "name": "python",
      "nbconvert_exporter": "python",
      "pygments_lexer": "ipython3",
      "version": "3.7.6"
    },
    "colab": {
      "provenance": [],
      "include_colab_link": true
    }
  },
  "nbformat": 4,
  "nbformat_minor": 0
}